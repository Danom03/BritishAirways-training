{
 "cells": [
  {
   "cell_type": "markdown",
   "id": "39680cd0",
   "metadata": {},
   "source": [
    "# Importing Modules"
   ]
  },
  {
   "cell_type": "code",
   "execution_count": 46,
   "id": "3ee49d6f",
   "metadata": {},
   "outputs": [],
   "source": [
    "import numpy as np\n",
    "import pandas as pd\n",
    "from scipy import stats as st\n",
    "import nltk\n",
    "\n",
    "# Ignore warnings\n",
    "import warnings\n",
    "warnings.filterwarnings('ignore')"
   ]
  },
  {
   "cell_type": "markdown",
   "id": "4b556330",
   "metadata": {},
   "source": [
    "Use below code to install all nltk packages in case they are not already installed"
   ]
  },
  {
   "cell_type": "code",
   "execution_count": 2,
   "id": "c29bfe7e",
   "metadata": {},
   "outputs": [],
   "source": [
    "#nltk.download()"
   ]
  },
  {
   "cell_type": "markdown",
   "id": "33b0842b",
   "metadata": {},
   "source": [
    "# Reading Data"
   ]
  },
  {
   "cell_type": "code",
   "execution_count": 3,
   "id": "9d1324f0",
   "metadata": {},
   "outputs": [
    {
     "data": {
      "text/html": [
       "<div>\n",
       "<style scoped>\n",
       "    .dataframe tbody tr th:only-of-type {\n",
       "        vertical-align: middle;\n",
       "    }\n",
       "\n",
       "    .dataframe tbody tr th {\n",
       "        vertical-align: top;\n",
       "    }\n",
       "\n",
       "    .dataframe thead th {\n",
       "        text-align: right;\n",
       "    }\n",
       "</style>\n",
       "<table border=\"1\" class=\"dataframe\">\n",
       "  <thead>\n",
       "    <tr style=\"text-align: right;\">\n",
       "      <th></th>\n",
       "      <th>serial_number</th>\n",
       "      <th>user_status</th>\n",
       "      <th>heading</th>\n",
       "      <th>reviews</th>\n",
       "    </tr>\n",
       "  </thead>\n",
       "  <tbody>\n",
       "    <tr>\n",
       "      <th>0</th>\n",
       "      <td>0</td>\n",
       "      <td>\\n\\nTom Slowbe (United States) 28th September ...</td>\n",
       "      <td>\"Very disappointed\"</td>\n",
       "      <td>✅ Trip Verified | The airplanes and the lounge...</td>\n",
       "    </tr>\n",
       "    <tr>\n",
       "      <th>1</th>\n",
       "      <td>1</td>\n",
       "      <td>\\n\\nE Anderson (United Kingdom) 28th September...</td>\n",
       "      <td>\"the service was shockingly bad\"</td>\n",
       "      <td>✅ Trip Verified | One of the worst experiences...</td>\n",
       "    </tr>\n",
       "    <tr>\n",
       "      <th>2</th>\n",
       "      <td>2</td>\n",
       "      <td>\\n\\n1 reviews\\n\\n\\n\\nC Horden (United Kingdom)...</td>\n",
       "      <td>\"Never again will I fly BA\"</td>\n",
       "      <td>✅ Trip Verified |  Cancelled our flight last-m...</td>\n",
       "    </tr>\n",
       "    <tr>\n",
       "      <th>3</th>\n",
       "      <td>3</td>\n",
       "      <td>\\n\\nP Cooper (United States) 23rd September 2023</td>\n",
       "      <td>\"never fly this awful airline again\"</td>\n",
       "      <td>✅ Trip Verified | I had a flight from Miami, F...</td>\n",
       "    </tr>\n",
       "    <tr>\n",
       "      <th>4</th>\n",
       "      <td>4</td>\n",
       "      <td>\\n\\nBruce Friedman (United States) 22nd Septem...</td>\n",
       "      <td>\"I’ll never fly with them again\"</td>\n",
       "      <td>✅ Trip Verified |  We started our day with BA ...</td>\n",
       "    </tr>\n",
       "  </tbody>\n",
       "</table>\n",
       "</div>"
      ],
      "text/plain": [
       "   serial_number                                        user_status  \\\n",
       "0              0  \\n\\nTom Slowbe (United States) 28th September ...   \n",
       "1              1  \\n\\nE Anderson (United Kingdom) 28th September...   \n",
       "2              2  \\n\\n1 reviews\\n\\n\\n\\nC Horden (United Kingdom)...   \n",
       "3              3   \\n\\nP Cooper (United States) 23rd September 2023   \n",
       "4              4  \\n\\nBruce Friedman (United States) 22nd Septem...   \n",
       "\n",
       "                                 heading  \\\n",
       "0                    \"Very disappointed\"   \n",
       "1       \"the service was shockingly bad\"   \n",
       "2            \"Never again will I fly BA\"   \n",
       "3  \"never fly this awful airline again\"    \n",
       "4       \"I’ll never fly with them again\"   \n",
       "\n",
       "                                             reviews  \n",
       "0  ✅ Trip Verified | The airplanes and the lounge...  \n",
       "1  ✅ Trip Verified | One of the worst experiences...  \n",
       "2  ✅ Trip Verified |  Cancelled our flight last-m...  \n",
       "3  ✅ Trip Verified | I had a flight from Miami, F...  \n",
       "4  ✅ Trip Verified |  We started our day with BA ...  "
      ]
     },
     "execution_count": 3,
     "metadata": {},
     "output_type": "execute_result"
    }
   ],
   "source": [
    "df = pd.read_csv('BAreviews.csv')\n",
    "df.columns = ['serial_number','user_status','heading','reviews']\n",
    "df.head()"
   ]
  },
  {
   "cell_type": "markdown",
   "id": "1e5291df",
   "metadata": {},
   "source": [
    "# Data Cleaning"
   ]
  },
  {
   "cell_type": "markdown",
   "id": "b6bdb2c1",
   "metadata": {},
   "source": [
    "## Data Cleaning for user_status"
   ]
  },
  {
   "cell_type": "markdown",
   "id": "46b17860",
   "metadata": {},
   "source": [
    "### Removing new line(\\n) from user_status"
   ]
  },
  {
   "cell_type": "code",
   "execution_count": 4,
   "id": "d2edac1f",
   "metadata": {},
   "outputs": [],
   "source": [
    "for i in range(len(df.user_status)):\n",
    "    df.user_status[i] = df.user_status[i].replace('\\n', '')"
   ]
  },
  {
   "cell_type": "markdown",
   "id": "825bc351",
   "metadata": {},
   "source": [
    "###### Logic used for further cleaning"
   ]
  },
  {
   "cell_type": "code",
   "execution_count": 5,
   "id": "c5571a30",
   "metadata": {},
   "outputs": [
    {
     "data": {
      "text/plain": [
       "['Clifford Oakley ', 'United Kingdom) 16th October 2021']"
      ]
     },
     "execution_count": 5,
     "metadata": {},
     "output_type": "execute_result"
    }
   ],
   "source": [
    "text = df['user_status'][465]\n",
    "text_split = text.split('(')\n",
    "text_split"
   ]
  },
  {
   "cell_type": "code",
   "execution_count": 6,
   "id": "844fb262",
   "metadata": {},
   "outputs": [
    {
     "data": {
      "text/plain": [
       "['United Kingdom', ' 16th October 2021']"
      ]
     },
     "execution_count": 6,
     "metadata": {},
     "output_type": "execute_result"
    }
   ],
   "source": [
    "# removing name since it is not very useful\n",
    "text_list = text_split[1].split(')')\n",
    "text_list"
   ]
  },
  {
   "cell_type": "markdown",
   "id": "7ff57382",
   "metadata": {},
   "source": [
    "#### Implementing above logic on all data"
   ]
  },
  {
   "cell_type": "code",
   "execution_count": 7,
   "id": "de570732",
   "metadata": {},
   "outputs": [],
   "source": [
    "new_list = []      # contains country and date of review\n",
    "left_out = {}      #exceptions to the above logic\n",
    "\n",
    "for i in range(len(df)):\n",
    "    text = df['user_status'][i]\n",
    "    text_split = text.split('(')\n",
    "    \n",
    "    try:\n",
    "        text_list = text_split[1].split(')')\n",
    "        new_list.append(text_list)\n",
    "    except:\n",
    "        left_out[i] = text_split"
   ]
  },
  {
   "cell_type": "code",
   "execution_count": 8,
   "id": "4ede5367",
   "metadata": {},
   "outputs": [
    {
     "data": {
      "text/plain": [
       "3658"
      ]
     },
     "execution_count": 8,
     "metadata": {},
     "output_type": "execute_result"
    }
   ],
   "source": [
    "len(new_list)"
   ]
  },
  {
   "cell_type": "code",
   "execution_count": 9,
   "id": "27d65d63",
   "metadata": {},
   "outputs": [
    {
     "data": {
      "text/plain": [
       "{3018: ['S Stevenson 8th April 2015'],\n",
       " 3322: ['Guillaume Christian 20th October 2014']}"
      ]
     },
     "execution_count": 9,
     "metadata": {},
     "output_type": "execute_result"
    }
   ],
   "source": [
    "left_out"
   ]
  },
  {
   "cell_type": "markdown",
   "id": "1dbb2dfe",
   "metadata": {},
   "source": [
    "#### Handling left_out data"
   ]
  },
  {
   "cell_type": "code",
   "execution_count": 10,
   "id": "4fa73b2e",
   "metadata": {},
   "outputs": [],
   "source": [
    "date1 = str(left_out[3018])[14:-2]\n",
    "date2 = str(left_out[3322])[22:-2]\n",
    "\n",
    "# Adding null values since we don't no country\n",
    "new_list.insert(3018,[np.nan, date1])\n",
    "new_list.insert(3322, [np.nan, date2])"
   ]
  },
  {
   "cell_type": "code",
   "execution_count": 11,
   "id": "106e7bc4",
   "metadata": {},
   "outputs": [
    {
     "data": {
      "text/plain": [
       "3660"
      ]
     },
     "execution_count": 11,
     "metadata": {},
     "output_type": "execute_result"
    }
   ],
   "source": [
    "len(new_list)"
   ]
  },
  {
   "cell_type": "markdown",
   "id": "094966cb",
   "metadata": {},
   "source": [
    "#### Separating Country and Date"
   ]
  },
  {
   "cell_type": "code",
   "execution_count": 12,
   "id": "fe3c7047",
   "metadata": {},
   "outputs": [],
   "source": [
    "country = []\n",
    "date = []\n",
    "for i in range(len(new_list)):\n",
    "    country.append(new_list[i][0])\n",
    "    date.append(new_list[i][1])"
   ]
  },
  {
   "cell_type": "markdown",
   "id": "0c14acf7",
   "metadata": {},
   "source": [
    "#### Adding it to DataFrame"
   ]
  },
  {
   "cell_type": "code",
   "execution_count": 13,
   "id": "e2e8780b",
   "metadata": {},
   "outputs": [],
   "source": [
    "df['country'] = country\n",
    "df['date'] = date"
   ]
  },
  {
   "cell_type": "code",
   "execution_count": 14,
   "id": "7e2ba51f",
   "metadata": {},
   "outputs": [],
   "source": [
    "for i in range(len(df.heading)):\n",
    "    df.heading[i] = df.heading[i].replace('\"', '').lower()"
   ]
  },
  {
   "cell_type": "code",
   "execution_count": 15,
   "id": "51888bf0",
   "metadata": {},
   "outputs": [],
   "source": [
    "# converting\n",
    "df['date'] = pd.to_datetime(df['date'])"
   ]
  },
  {
   "cell_type": "code",
   "execution_count": 16,
   "id": "2f6c5bc0",
   "metadata": {},
   "outputs": [],
   "source": [
    "df.drop('user_status', axis=1, inplace=True)"
   ]
  },
  {
   "cell_type": "code",
   "execution_count": 17,
   "id": "3cc59469",
   "metadata": {},
   "outputs": [
    {
     "data": {
      "text/html": [
       "<div>\n",
       "<style scoped>\n",
       "    .dataframe tbody tr th:only-of-type {\n",
       "        vertical-align: middle;\n",
       "    }\n",
       "\n",
       "    .dataframe tbody tr th {\n",
       "        vertical-align: top;\n",
       "    }\n",
       "\n",
       "    .dataframe thead th {\n",
       "        text-align: right;\n",
       "    }\n",
       "</style>\n",
       "<table border=\"1\" class=\"dataframe\">\n",
       "  <thead>\n",
       "    <tr style=\"text-align: right;\">\n",
       "      <th></th>\n",
       "      <th>serial_number</th>\n",
       "      <th>heading</th>\n",
       "      <th>reviews</th>\n",
       "      <th>country</th>\n",
       "      <th>date</th>\n",
       "    </tr>\n",
       "  </thead>\n",
       "  <tbody>\n",
       "    <tr>\n",
       "      <th>0</th>\n",
       "      <td>0</td>\n",
       "      <td>very disappointed</td>\n",
       "      <td>✅ Trip Verified | The airplanes and the lounge...</td>\n",
       "      <td>United States</td>\n",
       "      <td>2023-09-28</td>\n",
       "    </tr>\n",
       "    <tr>\n",
       "      <th>1</th>\n",
       "      <td>1</td>\n",
       "      <td>the service was shockingly bad</td>\n",
       "      <td>✅ Trip Verified | One of the worst experiences...</td>\n",
       "      <td>United Kingdom</td>\n",
       "      <td>2023-09-28</td>\n",
       "    </tr>\n",
       "    <tr>\n",
       "      <th>2</th>\n",
       "      <td>2</td>\n",
       "      <td>never again will i fly ba</td>\n",
       "      <td>✅ Trip Verified |  Cancelled our flight last-m...</td>\n",
       "      <td>United Kingdom</td>\n",
       "      <td>2023-09-27</td>\n",
       "    </tr>\n",
       "    <tr>\n",
       "      <th>3</th>\n",
       "      <td>3</td>\n",
       "      <td>never fly this awful airline again</td>\n",
       "      <td>✅ Trip Verified | I had a flight from Miami, F...</td>\n",
       "      <td>United States</td>\n",
       "      <td>2023-09-23</td>\n",
       "    </tr>\n",
       "    <tr>\n",
       "      <th>4</th>\n",
       "      <td>4</td>\n",
       "      <td>i’ll never fly with them again</td>\n",
       "      <td>✅ Trip Verified |  We started our day with BA ...</td>\n",
       "      <td>United States</td>\n",
       "      <td>2023-09-22</td>\n",
       "    </tr>\n",
       "  </tbody>\n",
       "</table>\n",
       "</div>"
      ],
      "text/plain": [
       "   serial_number                              heading  \\\n",
       "0              0                    very disappointed   \n",
       "1              1       the service was shockingly bad   \n",
       "2              2            never again will i fly ba   \n",
       "3              3  never fly this awful airline again    \n",
       "4              4       i’ll never fly with them again   \n",
       "\n",
       "                                             reviews         country  \\\n",
       "0  ✅ Trip Verified | The airplanes and the lounge...   United States   \n",
       "1  ✅ Trip Verified | One of the worst experiences...  United Kingdom   \n",
       "2  ✅ Trip Verified |  Cancelled our flight last-m...  United Kingdom   \n",
       "3  ✅ Trip Verified | I had a flight from Miami, F...   United States   \n",
       "4  ✅ Trip Verified |  We started our day with BA ...   United States   \n",
       "\n",
       "        date  \n",
       "0 2023-09-28  \n",
       "1 2023-09-28  \n",
       "2 2023-09-27  \n",
       "3 2023-09-23  \n",
       "4 2023-09-22  "
      ]
     },
     "execution_count": 17,
     "metadata": {},
     "output_type": "execute_result"
    }
   ],
   "source": [
    "df.head()"
   ]
  },
  {
   "cell_type": "markdown",
   "id": "dac4c9fe",
   "metadata": {},
   "source": [
    "## Data Cleaning for reviews"
   ]
  },
  {
   "cell_type": "markdown",
   "id": "f64d8ef1",
   "metadata": {},
   "source": [
    "##### Logic used"
   ]
  },
  {
   "cell_type": "code",
   "execution_count": 18,
   "id": "961a39dd",
   "metadata": {},
   "outputs": [
    {
     "data": {
      "text/plain": [
       "['Not Verified ',\n",
       " \"  Everything was ok until our connecting flight in London, just before take off, we were on the runway, the pilot came on to announce an engine problem. After engineers tried to fix it while we waited on the plane for over an hour we were finally told that we would have to be evacuated and rebooked for another flight but not to worry because a special crew was waiting for us on the ground to help us and set us up in a hotel except that there was no one to help us. In fact everyone refused to help us. It was Saturday almost 8pm and they just wanted to go home. Anyone with a connecting flight couldn't rebook on the application because the app wouldn't disassociate our first flight with the connecting one in London and the staff saw this but still refused to help us. They gave us a phone number but there was only a message that said just to use the app. Finally I got someone on the phone who rebooked us for the next day. Now it's 10:30pm and I have to find a hotel room because the airline refused also to help us with that. So i had 2 choices either sleep in the airport or pay over 700GBP for a room. I don't have the money to pay for this but after a 10 hour flight, 8 hours of jet lag and the insane stress after the fact that no one from British Airways would help us I took the room. Of course I claimed reimbursement but that was over 3 weeks ago and I haven't heard anything since so I have no idea when or how much I'll be reimbursed, even though I'm not claiming any emotional compensation from the horrible situation they put me through due to their total indifference. It's financially difficult for me right now because the money I had to put out is equal to half my salary and of course it's impossible to reach them by phone. I feel still as i did on August 26 2023 completely trapped by them and their indifference with no solution or information\"]"
      ]
     },
     "execution_count": 18,
     "metadata": {},
     "output_type": "execute_result"
    }
   ],
   "source": [
    "text = str(df['reviews'][6]).split('|')\n",
    "text"
   ]
  },
  {
   "cell_type": "markdown",
   "id": "c04e5e11",
   "metadata": {},
   "source": [
    "#### Implementing logic on all data"
   ]
  },
  {
   "cell_type": "code",
   "execution_count": 19,
   "id": "302f85cf",
   "metadata": {},
   "outputs": [],
   "source": [
    "split = []\n",
    "for i in range(len(df)):\n",
    "    text = str(df['reviews'][i]).split('|')\n",
    "    split.append(text)"
   ]
  },
  {
   "cell_type": "markdown",
   "id": "7145b9b0",
   "metadata": {},
   "source": [
    "There's an anomaly in 3279th data "
   ]
  },
  {
   "cell_type": "code",
   "execution_count": 20,
   "id": "20055337",
   "metadata": {},
   "outputs": [
    {
     "data": {
      "text/plain": [
       "['We travelled economy from Manchester to Toronto via Heathrow The flight from Manchester to Heathrow and return was very good. The seats had plenty of room and it was easy to fit laptop size briefcases under the seat in front and still have room to stretch your legs. The service from the cabin crew was excellent. The leg from Heathrow to Toronto was not as comfortable but it was acceptable. The seats appeared narrower and my case only just fit under the seat leaving little room to stretch my legs. Whilst the cabin crew forgot requests for drinks they apologised and were very friendly and helpful in other aspects. Unfortunately BA were let down by the attendants on the return leg from Toronto to Heathrow. Whilst the aircraft appeared newer and more comfortable I have never experienced such surly behaviour from the cabin crew. We had seen attendants in the opposite aisle offering passengers water from trays they were carrying but the attendants down our aisle did not do this. The lady in the seat next to me asked for a glass of water before take off. The steward was quite off hand and said he would bring her one in a minute. He did not do this and when she asked again she was told in a very rude manner that take off procedures took priority otherwise non of us were going anywhere. Even after take off she had to ask again. When they served dinner my daughter did not want a meal but she asked if she could just have the bottle of water that was served with it. The steward said that if she did not want the meal she could not have the water but that he would bring her some in a glass later. This had not appeared by the time I had finished eating my meal so I gave her the bottle from mine (My daughter has a medical condition that requires her to drink water frequently throughout the day) Shortly before landing we were served a muffin and a drink. The passengers on the other aisle were served about 15 mins earlier and they were handed paper napkins and cutlery whilst when we were served we were simply handed the muffin wrapped in cellophane but no plate or napkin to catch the crumbs. I asked for a glass of orange and a tea (as I had not drunk anything on the 6 hour flight). The attendant scowled at me and then gave me half a glass of orange and half a cup of tea (which was cold',\n",
       " ') I did not see the attendants down our aisle smile at a customer once throughout the whole journey.']"
      ]
     },
     "execution_count": 20,
     "metadata": {},
     "output_type": "execute_result"
    }
   ],
   "source": [
    "split[3278]"
   ]
  },
  {
   "cell_type": "markdown",
   "id": "9ac03225",
   "metadata": {},
   "source": [
    "##### Handilng above anamoly"
   ]
  },
  {
   "cell_type": "code",
   "execution_count": 21,
   "id": "2c883d81",
   "metadata": {},
   "outputs": [],
   "source": [
    "text = split[3278][0] + split[3278][1]\n",
    "\n",
    "del split[3278]\n",
    "split.insert(3278, [np.nan, text])"
   ]
  },
  {
   "cell_type": "markdown",
   "id": "78c9b966",
   "metadata": {},
   "source": [
    "#### Creating separate list for verified and reviews"
   ]
  },
  {
   "cell_type": "code",
   "execution_count": 22,
   "id": "94a8588b",
   "metadata": {},
   "outputs": [],
   "source": [
    "verified = []\n",
    "reviews = []\n",
    "for i in range(len(split)):\n",
    "    try:\n",
    "        reviews.append(split[i][1])\n",
    "        verified.append(split[i][0])\n",
    "    except:\n",
    "        reviews.append(split[i][0])\n",
    "        verified.append(np.nan)"
   ]
  },
  {
   "cell_type": "markdown",
   "id": "48f5302a",
   "metadata": {},
   "source": [
    "#### Handling emoji and further cleaning of verified list"
   ]
  },
  {
   "cell_type": "code",
   "execution_count": 23,
   "id": "7d4bc3b0",
   "metadata": {},
   "outputs": [],
   "source": [
    "new_verified = []\n",
    "for i in range(len(verified)):\n",
    "    if verified[i] is not np.nan:\n",
    "        foo = str(verified[i]).split(\" \")\n",
    "        if foo[-2] != 'Unverified':\n",
    "            bar = str(foo[-3]) + \" \" + str(foo[-2])\n",
    "        else:\n",
    "            bar = foo[-2]\n",
    "            \n",
    "        new_verified.append(bar.lower())\n",
    "    else:\n",
    "        new_verified.append(np.nan)"
   ]
  },
  {
   "cell_type": "markdown",
   "id": "0838191e",
   "metadata": {},
   "source": [
    "#### Further cleaning of review list"
   ]
  },
  {
   "cell_type": "code",
   "execution_count": 24,
   "id": "1547c805",
   "metadata": {},
   "outputs": [],
   "source": [
    "new_reviews = []\n",
    "for i in range(len(reviews)):\n",
    "    new_reviews.append(reviews[i].lower())   #converting it into lower case"
   ]
  },
  {
   "cell_type": "code",
   "execution_count": 25,
   "id": "f945fbe7",
   "metadata": {},
   "outputs": [],
   "source": [
    "# Adding them into dataframe\n",
    "df['verified'] = new_verified\n",
    "df['reviews'] = new_reviews"
   ]
  },
  {
   "cell_type": "code",
   "execution_count": 26,
   "id": "63ebac6a",
   "metadata": {},
   "outputs": [
    {
     "data": {
      "text/html": [
       "<div>\n",
       "<style scoped>\n",
       "    .dataframe tbody tr th:only-of-type {\n",
       "        vertical-align: middle;\n",
       "    }\n",
       "\n",
       "    .dataframe tbody tr th {\n",
       "        vertical-align: top;\n",
       "    }\n",
       "\n",
       "    .dataframe thead th {\n",
       "        text-align: right;\n",
       "    }\n",
       "</style>\n",
       "<table border=\"1\" class=\"dataframe\">\n",
       "  <thead>\n",
       "    <tr style=\"text-align: right;\">\n",
       "      <th></th>\n",
       "      <th>serial_number</th>\n",
       "      <th>heading</th>\n",
       "      <th>reviews</th>\n",
       "      <th>country</th>\n",
       "      <th>date</th>\n",
       "      <th>verified</th>\n",
       "    </tr>\n",
       "  </thead>\n",
       "  <tbody>\n",
       "    <tr>\n",
       "      <th>0</th>\n",
       "      <td>0</td>\n",
       "      <td>very disappointed</td>\n",
       "      <td>the airplanes and the lounges are worn out, o...</td>\n",
       "      <td>United States</td>\n",
       "      <td>2023-09-28</td>\n",
       "      <td>trip verified</td>\n",
       "    </tr>\n",
       "    <tr>\n",
       "      <th>1</th>\n",
       "      <td>1</td>\n",
       "      <td>the service was shockingly bad</td>\n",
       "      <td>one of the worst experiences on the worst air...</td>\n",
       "      <td>United Kingdom</td>\n",
       "      <td>2023-09-28</td>\n",
       "      <td>trip verified</td>\n",
       "    </tr>\n",
       "    <tr>\n",
       "      <th>2</th>\n",
       "      <td>2</td>\n",
       "      <td>never again will i fly ba</td>\n",
       "      <td>cancelled our flight last-minute then moved ...</td>\n",
       "      <td>United Kingdom</td>\n",
       "      <td>2023-09-27</td>\n",
       "      <td>trip verified</td>\n",
       "    </tr>\n",
       "    <tr>\n",
       "      <th>3</th>\n",
       "      <td>3</td>\n",
       "      <td>never fly this awful airline again</td>\n",
       "      <td>i had a flight from miami, florida to dublin,...</td>\n",
       "      <td>United States</td>\n",
       "      <td>2023-09-23</td>\n",
       "      <td>trip verified</td>\n",
       "    </tr>\n",
       "    <tr>\n",
       "      <th>4</th>\n",
       "      <td>4</td>\n",
       "      <td>i’ll never fly with them again</td>\n",
       "      <td>we started our day with ba in prague. the fl...</td>\n",
       "      <td>United States</td>\n",
       "      <td>2023-09-22</td>\n",
       "      <td>trip verified</td>\n",
       "    </tr>\n",
       "  </tbody>\n",
       "</table>\n",
       "</div>"
      ],
      "text/plain": [
       "   serial_number                              heading  \\\n",
       "0              0                    very disappointed   \n",
       "1              1       the service was shockingly bad   \n",
       "2              2            never again will i fly ba   \n",
       "3              3  never fly this awful airline again    \n",
       "4              4       i’ll never fly with them again   \n",
       "\n",
       "                                             reviews         country  \\\n",
       "0   the airplanes and the lounges are worn out, o...   United States   \n",
       "1   one of the worst experiences on the worst air...  United Kingdom   \n",
       "2    cancelled our flight last-minute then moved ...  United Kingdom   \n",
       "3   i had a flight from miami, florida to dublin,...   United States   \n",
       "4    we started our day with ba in prague. the fl...   United States   \n",
       "\n",
       "        date       verified  \n",
       "0 2023-09-28  trip verified  \n",
       "1 2023-09-28  trip verified  \n",
       "2 2023-09-27  trip verified  \n",
       "3 2023-09-23  trip verified  \n",
       "4 2023-09-22  trip verified  "
      ]
     },
     "execution_count": 26,
     "metadata": {},
     "output_type": "execute_result"
    }
   ],
   "source": [
    "df.head()"
   ]
  },
  {
   "cell_type": "code",
   "execution_count": 27,
   "id": "289e7ca9",
   "metadata": {},
   "outputs": [
    {
     "data": {
      "text/plain": [
       "array(['trip verified', 'not verified', nan, 'verified review',\n",
       "       'unverified'], dtype=object)"
      ]
     },
     "execution_count": 27,
     "metadata": {},
     "output_type": "execute_result"
    }
   ],
   "source": [
    "df['verified'].unique()"
   ]
  },
  {
   "cell_type": "code",
   "execution_count": 28,
   "id": "10e3395c",
   "metadata": {},
   "outputs": [],
   "source": [
    "# Replacing not verified as verified\n",
    "df.replace('not verified','unverified', inplace = True)"
   ]
  },
  {
   "cell_type": "markdown",
   "id": "f2c2c649",
   "metadata": {},
   "source": [
    "## Handling Null values"
   ]
  },
  {
   "cell_type": "code",
   "execution_count": 29,
   "id": "a0c4f6f3",
   "metadata": {},
   "outputs": [
    {
     "data": {
      "text/plain": [
       "serial_number       0\n",
       "heading             0\n",
       "reviews             0\n",
       "country             2\n",
       "date                0\n",
       "verified         1524\n",
       "dtype: int64"
      ]
     },
     "execution_count": 29,
     "metadata": {},
     "output_type": "execute_result"
    }
   ],
   "source": [
    "df.isnull().sum()"
   ]
  },
  {
   "cell_type": "code",
   "execution_count": 30,
   "id": "158b0bb7",
   "metadata": {},
   "outputs": [
    {
     "data": {
      "text/plain": [
       "ModeResult(mode=array(['trip verified'], dtype=object), count=array([1125]))"
      ]
     },
     "execution_count": 30,
     "metadata": {},
     "output_type": "execute_result"
    }
   ],
   "source": [
    "# Checking most occurrence in Verified field\n",
    "st.mode(df['verified'])"
   ]
  },
  {
   "cell_type": "markdown",
   "id": "69efc767",
   "metadata": {},
   "source": [
    "But we are not sure whether it is verified or not, so we make it unverified"
   ]
  },
  {
   "cell_type": "code",
   "execution_count": 31,
   "id": "01227568",
   "metadata": {},
   "outputs": [],
   "source": [
    "df['verified'].fillna('unverified', inplace=True)"
   ]
  },
  {
   "cell_type": "code",
   "execution_count": 32,
   "id": "236d9432",
   "metadata": {},
   "outputs": [
    {
     "data": {
      "text/html": [
       "<div>\n",
       "<style scoped>\n",
       "    .dataframe tbody tr th:only-of-type {\n",
       "        vertical-align: middle;\n",
       "    }\n",
       "\n",
       "    .dataframe tbody tr th {\n",
       "        vertical-align: top;\n",
       "    }\n",
       "\n",
       "    .dataframe thead th {\n",
       "        text-align: right;\n",
       "    }\n",
       "</style>\n",
       "<table border=\"1\" class=\"dataframe\">\n",
       "  <thead>\n",
       "    <tr style=\"text-align: right;\">\n",
       "      <th></th>\n",
       "      <th>serial_number</th>\n",
       "      <th>heading</th>\n",
       "      <th>reviews</th>\n",
       "      <th>country</th>\n",
       "      <th>date</th>\n",
       "      <th>verified</th>\n",
       "    </tr>\n",
       "  </thead>\n",
       "  <tbody>\n",
       "    <tr>\n",
       "      <th>0</th>\n",
       "      <td>0</td>\n",
       "      <td>very disappointed</td>\n",
       "      <td>the airplanes and the lounges are worn out, o...</td>\n",
       "      <td>United States</td>\n",
       "      <td>2023-09-28</td>\n",
       "      <td>trip verified</td>\n",
       "    </tr>\n",
       "    <tr>\n",
       "      <th>1</th>\n",
       "      <td>1</td>\n",
       "      <td>the service was shockingly bad</td>\n",
       "      <td>one of the worst experiences on the worst air...</td>\n",
       "      <td>United Kingdom</td>\n",
       "      <td>2023-09-28</td>\n",
       "      <td>trip verified</td>\n",
       "    </tr>\n",
       "    <tr>\n",
       "      <th>2</th>\n",
       "      <td>2</td>\n",
       "      <td>never again will i fly ba</td>\n",
       "      <td>cancelled our flight last-minute then moved ...</td>\n",
       "      <td>United Kingdom</td>\n",
       "      <td>2023-09-27</td>\n",
       "      <td>trip verified</td>\n",
       "    </tr>\n",
       "    <tr>\n",
       "      <th>3</th>\n",
       "      <td>3</td>\n",
       "      <td>never fly this awful airline again</td>\n",
       "      <td>i had a flight from miami, florida to dublin,...</td>\n",
       "      <td>United States</td>\n",
       "      <td>2023-09-23</td>\n",
       "      <td>trip verified</td>\n",
       "    </tr>\n",
       "    <tr>\n",
       "      <th>4</th>\n",
       "      <td>4</td>\n",
       "      <td>i’ll never fly with them again</td>\n",
       "      <td>we started our day with ba in prague. the fl...</td>\n",
       "      <td>United States</td>\n",
       "      <td>2023-09-22</td>\n",
       "      <td>trip verified</td>\n",
       "    </tr>\n",
       "  </tbody>\n",
       "</table>\n",
       "</div>"
      ],
      "text/plain": [
       "   serial_number                              heading  \\\n",
       "0              0                    very disappointed   \n",
       "1              1       the service was shockingly bad   \n",
       "2              2            never again will i fly ba   \n",
       "3              3  never fly this awful airline again    \n",
       "4              4       i’ll never fly with them again   \n",
       "\n",
       "                                             reviews         country  \\\n",
       "0   the airplanes and the lounges are worn out, o...   United States   \n",
       "1   one of the worst experiences on the worst air...  United Kingdom   \n",
       "2    cancelled our flight last-minute then moved ...  United Kingdom   \n",
       "3   i had a flight from miami, florida to dublin,...   United States   \n",
       "4    we started our day with ba in prague. the fl...   United States   \n",
       "\n",
       "        date       verified  \n",
       "0 2023-09-28  trip verified  \n",
       "1 2023-09-28  trip verified  \n",
       "2 2023-09-27  trip verified  \n",
       "3 2023-09-23  trip verified  \n",
       "4 2023-09-22  trip verified  "
      ]
     },
     "execution_count": 32,
     "metadata": {},
     "output_type": "execute_result"
    }
   ],
   "source": [
    "df.head()"
   ]
  },
  {
   "cell_type": "code",
   "execution_count": 33,
   "id": "9c0050a8",
   "metadata": {},
   "outputs": [],
   "source": [
    "# Filling null values in country to not specified\n",
    "df['country'].fillna('not specified', inplace=True)"
   ]
  },
  {
   "cell_type": "code",
   "execution_count": 34,
   "id": "c859038f",
   "metadata": {},
   "outputs": [
    {
     "data": {
      "text/plain": [
       "serial_number    0\n",
       "heading          0\n",
       "reviews          0\n",
       "country          0\n",
       "date             0\n",
       "verified         0\n",
       "dtype: int64"
      ]
     },
     "execution_count": 34,
     "metadata": {},
     "output_type": "execute_result"
    }
   ],
   "source": [
    "df.isnull().sum()"
   ]
  },
  {
   "cell_type": "code",
   "execution_count": 35,
   "id": "a1137df7",
   "metadata": {},
   "outputs": [
    {
     "data": {
      "text/html": [
       "<div>\n",
       "<style scoped>\n",
       "    .dataframe tbody tr th:only-of-type {\n",
       "        vertical-align: middle;\n",
       "    }\n",
       "\n",
       "    .dataframe tbody tr th {\n",
       "        vertical-align: top;\n",
       "    }\n",
       "\n",
       "    .dataframe thead th {\n",
       "        text-align: right;\n",
       "    }\n",
       "</style>\n",
       "<table border=\"1\" class=\"dataframe\">\n",
       "  <thead>\n",
       "    <tr style=\"text-align: right;\">\n",
       "      <th></th>\n",
       "      <th>serial_number</th>\n",
       "      <th>heading</th>\n",
       "      <th>reviews</th>\n",
       "      <th>country</th>\n",
       "      <th>date</th>\n",
       "      <th>verified</th>\n",
       "    </tr>\n",
       "  </thead>\n",
       "  <tbody>\n",
       "    <tr>\n",
       "      <th>0</th>\n",
       "      <td>0</td>\n",
       "      <td>very disappointed</td>\n",
       "      <td>the airplanes and the lounges are worn out, o...</td>\n",
       "      <td>United States</td>\n",
       "      <td>2023-09-28</td>\n",
       "      <td>trip verified</td>\n",
       "    </tr>\n",
       "    <tr>\n",
       "      <th>1</th>\n",
       "      <td>1</td>\n",
       "      <td>the service was shockingly bad</td>\n",
       "      <td>one of the worst experiences on the worst air...</td>\n",
       "      <td>United Kingdom</td>\n",
       "      <td>2023-09-28</td>\n",
       "      <td>trip verified</td>\n",
       "    </tr>\n",
       "    <tr>\n",
       "      <th>2</th>\n",
       "      <td>2</td>\n",
       "      <td>never again will i fly ba</td>\n",
       "      <td>cancelled our flight last-minute then moved ...</td>\n",
       "      <td>United Kingdom</td>\n",
       "      <td>2023-09-27</td>\n",
       "      <td>trip verified</td>\n",
       "    </tr>\n",
       "    <tr>\n",
       "      <th>3</th>\n",
       "      <td>3</td>\n",
       "      <td>never fly this awful airline again</td>\n",
       "      <td>i had a flight from miami, florida to dublin,...</td>\n",
       "      <td>United States</td>\n",
       "      <td>2023-09-23</td>\n",
       "      <td>trip verified</td>\n",
       "    </tr>\n",
       "    <tr>\n",
       "      <th>4</th>\n",
       "      <td>4</td>\n",
       "      <td>i’ll never fly with them again</td>\n",
       "      <td>we started our day with ba in prague. the fl...</td>\n",
       "      <td>United States</td>\n",
       "      <td>2023-09-22</td>\n",
       "      <td>trip verified</td>\n",
       "    </tr>\n",
       "  </tbody>\n",
       "</table>\n",
       "</div>"
      ],
      "text/plain": [
       "   serial_number                              heading  \\\n",
       "0              0                    very disappointed   \n",
       "1              1       the service was shockingly bad   \n",
       "2              2            never again will i fly ba   \n",
       "3              3  never fly this awful airline again    \n",
       "4              4       i’ll never fly with them again   \n",
       "\n",
       "                                             reviews         country  \\\n",
       "0   the airplanes and the lounges are worn out, o...   United States   \n",
       "1   one of the worst experiences on the worst air...  United Kingdom   \n",
       "2    cancelled our flight last-minute then moved ...  United Kingdom   \n",
       "3   i had a flight from miami, florida to dublin,...   United States   \n",
       "4    we started our day with ba in prague. the fl...   United States   \n",
       "\n",
       "        date       verified  \n",
       "0 2023-09-28  trip verified  \n",
       "1 2023-09-28  trip verified  \n",
       "2 2023-09-27  trip verified  \n",
       "3 2023-09-23  trip verified  \n",
       "4 2023-09-22  trip verified  "
      ]
     },
     "execution_count": 35,
     "metadata": {},
     "output_type": "execute_result"
    }
   ],
   "source": [
    "df.head()"
   ]
  },
  {
   "cell_type": "markdown",
   "id": "5690cc5c",
   "metadata": {},
   "source": [
    "## Removing punctuations and converting to lower case"
   ]
  },
  {
   "cell_type": "code",
   "execution_count": 36,
   "id": "4467f2ea",
   "metadata": {},
   "outputs": [],
   "source": [
    "import string\n",
    "def remove_punctuations(input_list):\n",
    "  cleaned_list=[]\n",
    "  for element in input_list:\n",
    "    cleaned_element=''.join(char.lower() for char in element if char not in string.punctuation)\n",
    "    cleaned_list.append(cleaned_element)\n",
    "  return cleaned_list"
   ]
  },
  {
   "cell_type": "code",
   "execution_count": 37,
   "id": "6b57f166",
   "metadata": {},
   "outputs": [],
   "source": [
    "text_list = remove_punctuations(df['reviews'])\n",
    "df['reviews'] = text_list"
   ]
  },
  {
   "cell_type": "code",
   "execution_count": 38,
   "id": "8c139aeb",
   "metadata": {},
   "outputs": [],
   "source": [
    "head_list = remove_punctuations(df['heading'])\n",
    "df['heading'] = head_list"
   ]
  },
  {
   "cell_type": "markdown",
   "id": "8cabfe1c",
   "metadata": {},
   "source": [
    "## Removing stop words"
   ]
  },
  {
   "cell_type": "markdown",
   "id": "bc751835",
   "metadata": {},
   "source": [
    "Stop words are words which have grammatical significance but does not add much value. Ex- I, for, the, and, etc."
   ]
  },
  {
   "cell_type": "markdown",
   "id": "0118ef9b",
   "metadata": {},
   "source": [
    "word_tokenize: It is a generic tokenizer that separates words and punctuations. An apostrophe is not considered as punctuation here."
   ]
  },
  {
   "cell_type": "code",
   "execution_count": 39,
   "id": "f72644d8",
   "metadata": {},
   "outputs": [],
   "source": [
    "def remove_stopwords(input_list):\n",
    "    stopwords = nltk.corpus.stopwords.words('english')\n",
    "    cleaned_list = []\n",
    "    for element in input_list:\n",
    "        tokenize = nltk.tokenize.word_tokenize(element)\n",
    "        cleaned_element = ' '.join(i for i in tokenize if i not in stopwords)\n",
    "        cleaned_list.append(cleaned_element)\n",
    "    return cleaned_list"
   ]
  },
  {
   "cell_type": "code",
   "execution_count": 40,
   "id": "98c19d34",
   "metadata": {},
   "outputs": [],
   "source": [
    "df['heading'] = remove_stopwords(df['heading'])\n",
    "df['reviews'] = remove_stopwords(df['reviews'])"
   ]
  },
  {
   "cell_type": "code",
   "execution_count": 41,
   "id": "348d88c6",
   "metadata": {},
   "outputs": [
    {
     "data": {
      "text/html": [
       "<div>\n",
       "<style scoped>\n",
       "    .dataframe tbody tr th:only-of-type {\n",
       "        vertical-align: middle;\n",
       "    }\n",
       "\n",
       "    .dataframe tbody tr th {\n",
       "        vertical-align: top;\n",
       "    }\n",
       "\n",
       "    .dataframe thead th {\n",
       "        text-align: right;\n",
       "    }\n",
       "</style>\n",
       "<table border=\"1\" class=\"dataframe\">\n",
       "  <thead>\n",
       "    <tr style=\"text-align: right;\">\n",
       "      <th></th>\n",
       "      <th>serial_number</th>\n",
       "      <th>heading</th>\n",
       "      <th>reviews</th>\n",
       "      <th>country</th>\n",
       "      <th>date</th>\n",
       "      <th>verified</th>\n",
       "    </tr>\n",
       "  </thead>\n",
       "  <tbody>\n",
       "    <tr>\n",
       "      <th>0</th>\n",
       "      <td>0</td>\n",
       "      <td>disappointed</td>\n",
       "      <td>airplanes lounges worn old broken dallas heath...</td>\n",
       "      <td>United States</td>\n",
       "      <td>2023-09-28</td>\n",
       "      <td>trip verified</td>\n",
       "    </tr>\n",
       "    <tr>\n",
       "      <th>1</th>\n",
       "      <td>1</td>\n",
       "      <td>service shockingly bad</td>\n",
       "      <td>one worst experiences worst airline flight del...</td>\n",
       "      <td>United Kingdom</td>\n",
       "      <td>2023-09-28</td>\n",
       "      <td>trip verified</td>\n",
       "    </tr>\n",
       "    <tr>\n",
       "      <th>2</th>\n",
       "      <td>2</td>\n",
       "      <td>never fly ba</td>\n",
       "      <td>cancelled flight lastminute moved us onto flig...</td>\n",
       "      <td>United Kingdom</td>\n",
       "      <td>2023-09-27</td>\n",
       "      <td>trip verified</td>\n",
       "    </tr>\n",
       "    <tr>\n",
       "      <th>3</th>\n",
       "      <td>3</td>\n",
       "      <td>never fly awful airline</td>\n",
       "      <td>flight miami florida dublin ireland via london...</td>\n",
       "      <td>United States</td>\n",
       "      <td>2023-09-23</td>\n",
       "      <td>trip verified</td>\n",
       "    </tr>\n",
       "    <tr>\n",
       "      <th>4</th>\n",
       "      <td>4</td>\n",
       "      <td>’ never fly</td>\n",
       "      <td>started day ba prague flight actually left tim...</td>\n",
       "      <td>United States</td>\n",
       "      <td>2023-09-22</td>\n",
       "      <td>trip verified</td>\n",
       "    </tr>\n",
       "  </tbody>\n",
       "</table>\n",
       "</div>"
      ],
      "text/plain": [
       "   serial_number                  heading  \\\n",
       "0              0             disappointed   \n",
       "1              1   service shockingly bad   \n",
       "2              2             never fly ba   \n",
       "3              3  never fly awful airline   \n",
       "4              4              ’ never fly   \n",
       "\n",
       "                                             reviews         country  \\\n",
       "0  airplanes lounges worn old broken dallas heath...   United States   \n",
       "1  one worst experiences worst airline flight del...  United Kingdom   \n",
       "2  cancelled flight lastminute moved us onto flig...  United Kingdom   \n",
       "3  flight miami florida dublin ireland via london...   United States   \n",
       "4  started day ba prague flight actually left tim...   United States   \n",
       "\n",
       "        date       verified  \n",
       "0 2023-09-28  trip verified  \n",
       "1 2023-09-28  trip verified  \n",
       "2 2023-09-27  trip verified  \n",
       "3 2023-09-23  trip verified  \n",
       "4 2023-09-22  trip verified  "
      ]
     },
     "execution_count": 41,
     "metadata": {},
     "output_type": "execute_result"
    }
   ],
   "source": [
    "df.head()"
   ]
  },
  {
   "cell_type": "markdown",
   "id": "841dabff",
   "metadata": {},
   "source": [
    "## Stemming and Lemmatization"
   ]
  },
  {
   "cell_type": "markdown",
   "id": "b6eb3f89",
   "metadata": {},
   "source": [
    "Stemming: A technique that takes the word to its root form. It just removes suffixes from the words. The stemmed word might not be part of the dictionary, i.e it will not necessarily give meaning. There are two main types of stemmer- Porter Stemmer and Snow Ball Stemmer\n",
    "\n",
    "Lemmatization: Takes the word to its root form called Lemma. It helps to bring words to their dictionary form. It is applied to nouns by default. It is more accurate as it uses more informed analysis to create groups of words with similar meanings based on the context, so it is complex and takes more time. This is used where we need to retain the contextual information."
   ]
  },
  {
   "cell_type": "markdown",
   "id": "d74365e2",
   "metadata": {},
   "source": [
    "###### We are going to use lemmatization"
   ]
  },
  {
   "cell_type": "code",
   "execution_count": 42,
   "id": "0f922e5c",
   "metadata": {},
   "outputs": [],
   "source": [
    "def lemmatization(input_list):\n",
    "    wn = nltk.WordNetLemmatizer()\n",
    "    lemmatize_list = []\n",
    "    for element in input_list:\n",
    "        w = ''.join(wn.lemmatize(word) for word in element)\n",
    "        lemmatize_list.append(w)\n",
    "    return lemmatize_list"
   ]
  },
  {
   "cell_type": "code",
   "execution_count": 43,
   "id": "c481f685",
   "metadata": {},
   "outputs": [],
   "source": [
    "df.heading = lemmatization(df.heading)\n",
    "df.reviews = lemmatization(df.reviews)"
   ]
  },
  {
   "cell_type": "code",
   "execution_count": 44,
   "id": "d729121e",
   "metadata": {},
   "outputs": [
    {
     "data": {
      "text/html": [
       "<div>\n",
       "<style scoped>\n",
       "    .dataframe tbody tr th:only-of-type {\n",
       "        vertical-align: middle;\n",
       "    }\n",
       "\n",
       "    .dataframe tbody tr th {\n",
       "        vertical-align: top;\n",
       "    }\n",
       "\n",
       "    .dataframe thead th {\n",
       "        text-align: right;\n",
       "    }\n",
       "</style>\n",
       "<table border=\"1\" class=\"dataframe\">\n",
       "  <thead>\n",
       "    <tr style=\"text-align: right;\">\n",
       "      <th></th>\n",
       "      <th>serial_number</th>\n",
       "      <th>heading</th>\n",
       "      <th>reviews</th>\n",
       "      <th>country</th>\n",
       "      <th>date</th>\n",
       "      <th>verified</th>\n",
       "    </tr>\n",
       "  </thead>\n",
       "  <tbody>\n",
       "    <tr>\n",
       "      <th>0</th>\n",
       "      <td>0</td>\n",
       "      <td>disappointed</td>\n",
       "      <td>airplanes lounges worn old broken dallas heath...</td>\n",
       "      <td>United States</td>\n",
       "      <td>2023-09-28</td>\n",
       "      <td>trip verified</td>\n",
       "    </tr>\n",
       "    <tr>\n",
       "      <th>1</th>\n",
       "      <td>1</td>\n",
       "      <td>service shockingly bad</td>\n",
       "      <td>one worst experiences worst airline flight del...</td>\n",
       "      <td>United Kingdom</td>\n",
       "      <td>2023-09-28</td>\n",
       "      <td>trip verified</td>\n",
       "    </tr>\n",
       "    <tr>\n",
       "      <th>2</th>\n",
       "      <td>2</td>\n",
       "      <td>never fly ba</td>\n",
       "      <td>cancelled flight lastminute moved us onto flig...</td>\n",
       "      <td>United Kingdom</td>\n",
       "      <td>2023-09-27</td>\n",
       "      <td>trip verified</td>\n",
       "    </tr>\n",
       "    <tr>\n",
       "      <th>3</th>\n",
       "      <td>3</td>\n",
       "      <td>never fly awful airline</td>\n",
       "      <td>flight miami florida dublin ireland via london...</td>\n",
       "      <td>United States</td>\n",
       "      <td>2023-09-23</td>\n",
       "      <td>trip verified</td>\n",
       "    </tr>\n",
       "    <tr>\n",
       "      <th>4</th>\n",
       "      <td>4</td>\n",
       "      <td>’ never fly</td>\n",
       "      <td>started day ba prague flight actually left tim...</td>\n",
       "      <td>United States</td>\n",
       "      <td>2023-09-22</td>\n",
       "      <td>trip verified</td>\n",
       "    </tr>\n",
       "  </tbody>\n",
       "</table>\n",
       "</div>"
      ],
      "text/plain": [
       "   serial_number                  heading  \\\n",
       "0              0             disappointed   \n",
       "1              1   service shockingly bad   \n",
       "2              2             never fly ba   \n",
       "3              3  never fly awful airline   \n",
       "4              4              ’ never fly   \n",
       "\n",
       "                                             reviews         country  \\\n",
       "0  airplanes lounges worn old broken dallas heath...   United States   \n",
       "1  one worst experiences worst airline flight del...  United Kingdom   \n",
       "2  cancelled flight lastminute moved us onto flig...  United Kingdom   \n",
       "3  flight miami florida dublin ireland via london...   United States   \n",
       "4  started day ba prague flight actually left tim...   United States   \n",
       "\n",
       "        date       verified  \n",
       "0 2023-09-28  trip verified  \n",
       "1 2023-09-28  trip verified  \n",
       "2 2023-09-27  trip verified  \n",
       "3 2023-09-23  trip verified  \n",
       "4 2023-09-22  trip verified  "
      ]
     },
     "execution_count": 44,
     "metadata": {},
     "output_type": "execute_result"
    }
   ],
   "source": [
    "df.head()"
   ]
  },
  {
   "cell_type": "markdown",
   "id": "953cce42",
   "metadata": {},
   "source": [
    "## Saving cleaned data"
   ]
  },
  {
   "cell_type": "code",
   "execution_count": 45,
   "id": "3a888236",
   "metadata": {},
   "outputs": [
    {
     "name": "stdout",
     "output_type": "stream",
     "text": [
      "Saved!\n"
     ]
    }
   ],
   "source": [
    "df.to_csv('cleaned_data.csv')\n",
    "print('Saved!')"
   ]
  },
  {
   "cell_type": "code",
   "execution_count": null,
   "id": "ff292b2f",
   "metadata": {},
   "outputs": [],
   "source": []
  }
 ],
 "metadata": {
  "kernelspec": {
   "display_name": "Python 3 (ipykernel)",
   "language": "python",
   "name": "python3"
  },
  "language_info": {
   "codemirror_mode": {
    "name": "ipython",
    "version": 3
   },
   "file_extension": ".py",
   "mimetype": "text/x-python",
   "name": "python",
   "nbconvert_exporter": "python",
   "pygments_lexer": "ipython3",
   "version": "3.9.12"
  }
 },
 "nbformat": 4,
 "nbformat_minor": 5
}
